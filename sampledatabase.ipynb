{
 "cells": [
  {
   "cell_type": "code",
   "execution_count": 3,
   "metadata": {},
   "outputs": [
    {
     "name": "stdout",
     "output_type": "stream",
     "text": [
      "Defaulting to user installation because normal site-packages is not writeable\n",
      "Requirement already satisfied: psycopg2 in c:\\users\\gpred\\appdata\\local\\packages\\pythonsoftwarefoundation.python.3.12_qbz5n2kfra8p0\\localcache\\local-packages\\python312\\site-packages (2.9.9)\n",
      "Note: you may need to restart the kernel to use updated packages.\n"
     ]
    }
   ],
   "source": [
    "pip install psycopg2\n"
   ]
  },
  {
   "cell_type": "code",
   "execution_count": 4,
   "metadata": {},
   "outputs": [],
   "source": [
    "import psycopg2"
   ]
  },
  {
   "cell_type": "code",
   "execution_count": 5,
   "metadata": {},
   "outputs": [],
   "source": [
    "try:\n",
    "    connection = psycopg2.connect(\"host=localhost port=8888 dbname=postgres user=postgres password=12345\")\n",
    "except psycopg2.Error as e:\n",
    "    print(\"Error: Could not make connection to the Postgres database\")\n",
    "    print(e)"
   ]
  },
  {
   "cell_type": "code",
   "execution_count": 6,
   "metadata": {},
   "outputs": [],
   "source": [
    "try:\n",
    "    cur = connection.cursor()\n",
    "except psycopg2.Error as e:\n",
    "    print(\"Error: Could not get cursor to the Database\")\n",
    "    print(e)"
   ]
  },
  {
   "cell_type": "code",
   "execution_count": 7,
   "metadata": {},
   "outputs": [],
   "source": [
    "connection.set_session(autocommit=True)"
   ]
  },
  {
   "cell_type": "code",
   "execution_count": 8,
   "metadata": {},
   "outputs": [
    {
     "name": "stdout",
     "output_type": "stream",
     "text": [
      "database \"myfirstdb\" already exists\n",
      "\n"
     ]
    }
   ],
   "source": [
    "try:\n",
    "    cur.execute(\"create database myfirstdb\")\n",
    "except psycopg2.Error as e:\n",
    "    print(e)"
   ]
  },
  {
   "cell_type": "code",
   "execution_count": 9,
   "metadata": {},
   "outputs": [],
   "source": [
    "try:\n",
    "    connection = psycopg2.connect(\"host=localhost port=8888 dbname=myfirstdb user=postgres password=12345\")\n",
    "    connection.set_session(autocommit=True)\n",
    "\n",
    "except psycopg2.Error as e:\n",
    "    print(\"Error: Could not make connection to the Postgres database\")\n",
    "    print(e)\n",
    "\n",
    "try:\n",
    "    cur = connection.cursor()\n",
    "\n",
    "except psycopg2.Error as e:\n",
    "    print(\"Error: Could not get cursor to the Database\")\n",
    "    print(e)\n",
    "\n",
    "finally:\n",
    "    if connection is not None:\n",
    "        connection.close()\n"
   ]
  },
  {
   "cell_type": "code",
   "execution_count": 10,
   "metadata": {},
   "outputs": [],
   "source": [
    "try:\n",
    "    connection = psycopg2.connect(\"host=localhost port=8888 dbname=myfirstdb user=postgres password=12345\")\n",
    "    connection.set_session(autocommit=True)\n",
    "    cur = connection.cursor()\n",
    "\n",
    "    try:\n",
    "        cur.execute(\"CREATE TABLE IF NOT EXISTS students (student_id int, name varchar, age int, gender varchar, subject varchar, marks int);\")\n",
    "    except psycopg2.Error as e:\n",
    "        print(\"Error: Issue creating table\")\n",
    "        print(e)\n",
    "\n",
    "finally:\n",
    "    if cur is not None:\n",
    "        cur.close()\n",
    "    if connection is not None:\n",
    "        connection.close()\n"
   ]
  },
  {
   "cell_type": "code",
   "execution_count": 11,
   "metadata": {},
   "outputs": [],
   "source": [
    "try:\n",
    "    connection = psycopg2.connect(\"host=localhost port=8888 dbname=myfirstdb user=postgres password=12345\")\n",
    "    connection.set_session(autocommit=True)\n",
    "    cur = connection.cursor()\n",
    "\n",
    "    try:\n",
    "        cur.execute(\"INSERT INTO students (student_id, name, age,gender, subject, marks) VALUES (%s, %s, %s, %s, %s,%s)\", (1, \"Raj\", 23, \"Male\",\"Python\", 85))\n",
    "        cur.execute(\"INSERT INTO students (student_id, name, age,gender, subject, marks) VALUES (%s, %s, %s, %s, %s,%s)\",(2, \"Priya\",22,\"Female\",\"Python\",86))\n",
    "    except psycopg2.Error as e:\n",
    "        print(\"Error: Inserting Rows\")\n",
    "        print(e)\n",
    "\n",
    "finally:\n",
    "    if cur is not None:\n",
    "        cur.close()\n",
    "    if connection is not None:\n",
    "        connection.close()\n"
   ]
  },
  {
   "cell_type": "code",
   "execution_count": 12,
   "metadata": {},
   "outputs": [
    {
     "name": "stdout",
     "output_type": "stream",
     "text": [
      "(1, 'Raj', 23, 'Male', 'Python', 85)\n",
      "(2, 'Priya', 22, 'Female', 'Python', 86)\n",
      "(1, 'Raj', 23, 'Male', 'Python', 85)\n",
      "(2, 'Priya', 22, 'Female', 'Python', 86)\n"
     ]
    }
   ],
   "source": [
    "try:\n",
    "    connection = psycopg2.connect(\"host=localhost port=8888 dbname=myfirstdb user=postgres password=12345\")\n",
    "    connection.set_session(autocommit=True)\n",
    "    cur = connection.cursor()\n",
    "\n",
    "    try:\n",
    "        cur.execute(\"SELECT * FROM students;\")\n",
    "    except psycopg2.Error as e:\n",
    "        print(\"Error: select *\")\n",
    "        print(e)\n",
    "\n",
    "    row = cur.fetchone()\n",
    "    while row:\n",
    "        print(row)\n",
    "        row = cur.fetchone()\n",
    "\n",
    "except psycopg2.Error as e:\n",
    "    print(\"Error: Could not make connection to Postgres database\")"
   ]
  },
  {
   "cell_type": "code",
   "execution_count": 13,
   "metadata": {},
   "outputs": [],
   "source": [
    "cur.close()\n",
    "connection.close()"
   ]
  }
 ],
 "metadata": {
  "kernelspec": {
   "display_name": "Python 3",
   "language": "python",
   "name": "python3"
  },
  "language_info": {
   "codemirror_mode": {
    "name": "ipython",
    "version": 3
   },
   "file_extension": ".py",
   "mimetype": "text/x-python",
   "name": "python",
   "nbconvert_exporter": "python",
   "pygments_lexer": "ipython3",
   "version": "3.12.3"
  }
 },
 "nbformat": 4,
 "nbformat_minor": 2
}
